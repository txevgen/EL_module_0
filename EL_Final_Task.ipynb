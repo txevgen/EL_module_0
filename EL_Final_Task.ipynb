{
 "cells": [
  {
   "cell_type": "code",
   "execution_count": 16,
   "metadata": {},
   "outputs": [
    {
     "name": "stdout",
     "output_type": "stream",
     "text": [
      "Загадано число от 1 до 100\n",
      "Ваш алгоритм угадывает число в среднем за 7 попыток\n"
     ]
    },
    {
     "data": {
      "text/plain": [
       "7"
      ]
     },
     "execution_count": 16,
     "metadata": {},
     "output_type": "execute_result"
    }
   ],
   "source": [
    "'''Отгадывает число от left до right'''\n",
    "\n",
    "import numpy as np\n",
    "\n",
    "left = 1 \n",
    "right = 101\n",
    "number = np.random.randint(a,b)  # загадали число\n",
    "print (f\"Загадано число от {left} до {right - 1}\")\n",
    "\n",
    "\n",
    "def score_game(game_core):\n",
    "    '''Запускаем игру 1000 раз, чтобы узнать, как быстро игра угадывает число'''\n",
    "    count_ls = []\n",
    "    np.random.seed(1)  # фиксируем RANDOM SEED, чтобы ваш эксперимент был воспроизводим!\n",
    "    random_array = np.random.randint(left,right, size=(1000))\n",
    "    for number in random_array:\n",
    "        count_ls.append(game_core(number))\n",
    "    score = int(np.mean(count_ls))\n",
    "    print(f\"Ваш алгоритм угадывает число в среднем за {score} попыток\")\n",
    "    \n",
    "    return(score)\n",
    "\n",
    "\n",
    "def game_core_v3(number):\n",
    "    '''Функция отгадывающая число методом бисекции'''\n",
    "    global left\n",
    "    global right\n",
    "    \n",
    "    count = 1\n",
    "    left_border = left\n",
    "    right_border = right\n",
    "    while (left_border + 1) < right_border: \n",
    "        count += 1\n",
    "        middle = (left_border+right_border) // 2\n",
    "        if middle > number:  # если середина интервала больше загаданного числа\n",
    "            right_border = middle  # двигаем правую границу на место середины интервала\n",
    "        else:\n",
    "            left_border = middle  # в обратном случае, двигаем левую\n",
    "    \n",
    "    return(count) # выход из цикла, если угадали\n",
    "\n",
    "\n",
    "score_game(game_core_v3)"
   ]
  }
 ],
 "metadata": {
  "kernelspec": {
   "display_name": "Python 3",
   "language": "python",
   "name": "python3"
  },
  "language_info": {
   "codemirror_mode": {
    "name": "ipython",
    "version": 3
   },
   "file_extension": ".py",
   "mimetype": "text/x-python",
   "name": "python",
   "nbconvert_exporter": "python",
   "pygments_lexer": "ipython3",
   "version": "3.8.5"
  }
 },
 "nbformat": 4,
 "nbformat_minor": 4
}
